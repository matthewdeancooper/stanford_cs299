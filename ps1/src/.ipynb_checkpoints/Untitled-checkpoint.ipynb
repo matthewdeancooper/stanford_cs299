{
 "cells": [
  {
   "cell_type": "code",
   "execution_count": 1,
   "metadata": {},
   "outputs": [],
   "source": [
    "import numpy as np\n",
    "from numpy import linalg\n",
    "\n",
    "import util\n",
    "from linear_model import LinearModel"
   ]
  },
  {
   "cell_type": "code",
   "execution_count": 5,
   "metadata": {},
   "outputs": [],
   "source": [
    "def main(train_path, eval_path, pred_path):\n",
    "    \"\"\"Problem 1(b): Logistic regression with Newton's Method.\n",
    "\n",
    "    Args:\n",
    "        train_path: Path to CSV file containing dataset for training.\n",
    "        eval_path: Path to CSV file containing dataset for evaluation.\n",
    "        pred_path: Path to save predictions.\n",
    "    \"\"\"\n",
    "\n",
    "    # *** START CODE HERE ***\n",
    "    x_train, y_train = util.load_dataset(train_path, add_intercept=True)\n",
    "    x_eval, y_eval = util.load_dataset(eval_path, add_intercept=True)\n",
    "\n",
    "    # Train a logistic regression classifier\n",
    "    theta_0 = 0.5*np.ones(x_train.shape[-1])\n",
    "    model = LogisticRegression(theta_0=theta_0)\n",
    "#     model.fit(x_train, y_train)\n",
    "\n",
    "    # Plot decision boundary on top of validation set\n",
    "    fig_path = pred_path + \"_fig.jpg\"\n",
    "    util.plot(x_eval, y_eval, model.theta, fig_path, correction=1.0, show=True)\n",
    "\n",
    "    # Use np.savetxt to save predictions on eval set to pred_path\n",
    "    predictions = model.predict(x_eval)\n",
    "    np.savetxt(pred_path, predictions)\n",
    "\n",
    "    # *** END CODE HERE ***"
   ]
  },
  {
   "cell_type": "code",
   "execution_count": 6,
   "metadata": {},
   "outputs": [],
   "source": [
    "class LogisticRegression(LinearModel):\n",
    "    \"\"\"Logistic regression with Newton's Method as the solver.\n",
    "\n",
    "    Example usage:\n",
    "        > clf = LogisticRegression()\n",
    "        > clf.fit(x_train, y_train)\n",
    "        > clf.predict(x_eval)\n",
    "    \"\"\"\n",
    "    def assert_x0(self, x):\n",
    "        for x_i in x:\n",
    "            assert x_i[0] == 1\n",
    "\n",
    "    def sigmoid(self, z):\n",
    "        return 1 / (1 + np.exp(-z))\n",
    "\n",
    "    def hypothesis(self, x):\n",
    "        # Using the logistic/sigmoid function as the activation/hypothesis.\n",
    "        # As theta has shape (n,) the transpose is an identity operation\n",
    "        # @ is equivalent to the dot product for shapes (n,) @ (n,)\n",
    "        z = np.array([self.theta @ x_i for x_i in x])\n",
    "        assert z.shape == (x.shape[0],)\n",
    "        return self.sigmoid(z)\n",
    "\n",
    "    def hessian_log_liklihood(self, x):\n",
    "        # TODO Finish function\n",
    "        hessian = self.hypothesis(x)*(1-self.hypothesis(x))*x*np.transpose(x)\n",
    "        hessian = np.mean(hessian)\n",
    "        assert hessian.shape == (self.theta.shape[0], self.theta.shape[0])\n",
    "        return hessian\n",
    "\n",
    "    def grad_log_liklihood(self, x, y):\n",
    "        # TODO Finish function\n",
    "        grad = -np.mean((1-self.hypothesis(x*y))*y*x)\n",
    "        assert grad.shape == self.theta.shape\n",
    "        return grad\n",
    "\n",
    "    def newtons_method_step_size(self, x, y):\n",
    "        inverse_hessian = linalg.inv(self.hessian_log_liklihood(x))\n",
    "        return inverse_hessian @ self.grad_log_liklihood(x, y)\n",
    "\n",
    "    def fit(self, x, y):\n",
    "        \"\"\"Run Newton's Method to minimize J(theta) for logistic regression.\n",
    "\n",
    "        Args:\n",
    "            x: Training example inputs. Shape (m, n).\n",
    "            y: Training example labels. Shape (m,).\n",
    "\n",
    "        Notes:\n",
    "            theta: Shape (n, ).\n",
    "        \"\"\"\n",
    "\n",
    "        # *** START CODE HERE ***\n",
    "        self.assert_x0(x)\n",
    "        while True:\n",
    "            theta_update = self.theta - self.newtons_method_step_size(x, y)\n",
    "            theta_difference = linalg.norm(theta_update - self.theta, ord=1)\n",
    "\n",
    "            if theta_difference < self.eps:\n",
    "                break\n",
    "            else:\n",
    "                self.theta = theta_update\n",
    "        # *** END CODE HERE ***\n",
    "\n",
    "    def predict(self, x):\n",
    "        \"\"\"Make a prediction given new inputs x.\n",
    "\n",
    "        Args:\n",
    "            x: Inputs of shape (m, n).\n",
    "\n",
    "        Returns:\n",
    "            Outputs of shape (m,).\n",
    "        \"\"\"\n",
    "        # *** START CODE HERE ***\n",
    "        self.assert_x0(x)\n",
    "        return self.hypothesis(x)\n",
    "        # *** END CODE HERE ***"
   ]
  },
  {
   "cell_type": "code",
   "execution_count": 7,
   "metadata": {},
   "outputs": [
    {
     "data": {
      "image/png": "[encoded data removed]",
      "text/plain": [
       "<Figure size 432x288 with 1 Axes>"
      ]
     },
     "metadata": {
      "needs_background": "light"
     },
     "output_type": "display_data"
    }
   ],
   "source": [
    "main(train_path='../data/ds1_train.csv',\n",
    "         eval_path='../data/ds1_valid.csv',\n",
    "         pred_path='output/p01b_pred_1.txt')"
   ]
  },
  {
   "cell_type": "code",
   "execution_count": null,
   "metadata": {},
   "outputs": [],
   "source": [
    "main(train_path='../data/ds2_train.csv',\n",
    "         eval_path='../data/ds2_valid.csv',\n",
    "         pred_path='output/p01b_pred_2.txt')"
   ]
  }
 ],
 "metadata": {
  "kernelspec": {
   "display_name": "cs299",
   "language": "python",
   "name": "cs299"
  },
  "language_info": {
   "codemirror_mode": {
    "name": "ipython",
    "version": 3
   },
   "file_extension": ".py",
   "mimetype": "text/x-python",
   "name": "python",
   "nbconvert_exporter": "python",
   "pygments_lexer": "ipython3",
   "version": "3.7.5"
  }
 },
 "nbformat": 4,
 "nbformat_minor": 4
}
